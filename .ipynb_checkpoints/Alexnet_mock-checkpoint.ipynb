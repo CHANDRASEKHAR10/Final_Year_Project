{
 "cells": [
  {
   "cell_type": "code",
   "execution_count": 2,
   "metadata": {},
   "outputs": [
    {
     "name": "stdout",
     "output_type": "stream",
     "text": [
      "Found 195 images belonging to 2 classes.\n",
      "Found 58 images belonging to 2 classes.\n"
     ]
    }
   ],
   "source": [
    "import numpy as np\n",
    "image_shape = [227,227,3]\n",
    "np.random.seed(1000)\n",
    "from keras.models import Sequential\n",
    "import keras\n",
    "from keras.layers import Dense, Activation, Dropout, Flatten, Conv2D, MaxPooling2D\n",
    "from keras.layers.normalization import BatchNormalization\n",
    "from keras.preprocessing.image import ImageDataGenerator\n",
    "\n",
    "train_datagen = ImageDataGenerator(rescale = 1./255,\n",
    "                                   shear_range = 0.2,\n",
    "                                   zoom_range = 0.2,\n",
    "                                   horizontal_flip = True)\n",
    "training_set = train_datagen.flow_from_directory('Try/training_set',\n",
    "                                                 target_size = (227, 227),\n",
    "                                                 batch_size = 32,\n",
    "                                                 class_mode = 'binary')\n",
    "\n",
    "# Preprocessing the Test set\n",
    "test_datagen = ImageDataGenerator(rescale = 1./255)\n",
    "test_set = test_datagen.flow_from_directory('Try/test_set',\n",
    "                                            target_size = (227, 227),\n",
    "                                            batch_size = 32,\n",
    "                                            class_mode = 'binary')\n",
    "model = Sequential()"
   ]
  },
  {
   "cell_type": "code",
   "execution_count": 3,
   "metadata": {},
   "outputs": [
    {
     "name": "stdout",
     "output_type": "stream",
     "text": [
      "Model: \"sequential\"\n",
      "_________________________________________________________________\n",
      "Layer (type)                 Output Shape              Param #   \n",
      "=================================================================\n",
      "conv2d (Conv2D)              (None, 55, 55, 96)        34944     \n",
      "_________________________________________________________________\n",
      "activation (Activation)      (None, 55, 55, 96)        0         \n",
      "_________________________________________________________________\n",
      "max_pooling2d (MaxPooling2D) (None, 27, 27, 96)        0         \n",
      "_________________________________________________________________\n",
      "conv2d_1 (Conv2D)            (None, 23, 23, 256)       614656    \n",
      "_________________________________________________________________\n",
      "activation_1 (Activation)    (None, 23, 23, 256)       0         \n",
      "_________________________________________________________________\n",
      "max_pooling2d_1 (MaxPooling2 (None, 11, 11, 256)       0         \n",
      "_________________________________________________________________\n",
      "conv2d_2 (Conv2D)            (None, 9, 9, 384)         885120    \n",
      "_________________________________________________________________\n",
      "activation_2 (Activation)    (None, 9, 9, 384)         0         \n",
      "_________________________________________________________________\n",
      "conv2d_3 (Conv2D)            (None, 7, 7, 384)         1327488   \n",
      "_________________________________________________________________\n",
      "activation_3 (Activation)    (None, 7, 7, 384)         0         \n",
      "_________________________________________________________________\n",
      "conv2d_4 (Conv2D)            (None, 5, 5, 256)         884992    \n",
      "_________________________________________________________________\n",
      "activation_4 (Activation)    (None, 5, 5, 256)         0         \n",
      "_________________________________________________________________\n",
      "max_pooling2d_2 (MaxPooling2 (None, 2, 2, 256)         0         \n",
      "_________________________________________________________________\n",
      "flatten (Flatten)            (None, 1024)              0         \n",
      "_________________________________________________________________\n",
      "dense (Dense)                (None, 4096)              4198400   \n",
      "_________________________________________________________________\n",
      "activation_5 (Activation)    (None, 4096)              0         \n",
      "_________________________________________________________________\n",
      "dense_1 (Dense)              (None, 4096)              16781312  \n",
      "_________________________________________________________________\n",
      "activation_6 (Activation)    (None, 4096)              0         \n",
      "_________________________________________________________________\n",
      "dense_2 (Dense)              (None, 1000)              4097000   \n",
      "_________________________________________________________________\n",
      "activation_7 (Activation)    (None, 1000)              0         \n",
      "_________________________________________________________________\n",
      "dense_3 (Dense)              (None, 1)                 1001      \n",
      "_________________________________________________________________\n",
      "activation_8 (Activation)    (None, 1)                 0         \n",
      "=================================================================\n",
      "Total params: 28,824,913\n",
      "Trainable params: 28,824,913\n",
      "Non-trainable params: 0\n",
      "_________________________________________________________________\n"
     ]
    }
   ],
   "source": [
    "model.add(Conv2D(filters=96,input_shape=image_shape,kernel_size=(11,11),strides=(4,4),padding='valid'))\n",
    "model.add(Activation('relu'))\n",
    "model.add(MaxPooling2D(pool_size=(3,3),strides=(2,2),padding='valid'))\n",
    "\n",
    "model.add(Conv2D(filters=256,kernel_size=(5,5),strides=(1,1),padding='valid'))\n",
    "model.add(Activation('relu'))\n",
    "model.add(MaxPooling2D(pool_size=(3,3),strides=(2,2),padding='valid'))\n",
    "\n",
    "model.add(Conv2D(filters=384,kernel_size=(3,3),strides=(1,1),padding='valid'))\n",
    "model.add(Activation('relu'))\n",
    "\n",
    "model.add(Conv2D(filters=384,kernel_size=(3,3),strides=(1,1),padding='valid'))\n",
    "model.add(Activation('relu'))\n",
    "\n",
    "model.add(Conv2D(filters=256,kernel_size=(3,3),strides=(1,1),padding='valid'))\n",
    "model.add(Activation('relu'))\n",
    "\n",
    "model.add(MaxPooling2D(pool_size=(3,3),strides=(2,2),padding='valid'))\n",
    "\n",
    "model.add(Flatten())\n",
    "\n",
    "model.add(Dense(4096))\n",
    "model.add(Activation('relu'))\n",
    "\n",
    "model.add(Dense(4096))\n",
    "model.add(Activation('relu'))\n",
    "\n",
    "#model.add(Dropout(0.4))\n",
    "model.add(Dense(1000))\n",
    "model.add(Activation('relu'))\n",
    "model.add(Dense(1))\n",
    "model.add(Activation('sigmoid'))\n",
    "\n",
    "model.summary()\n",
    "\n",
    "opt = keras.optimizers.Adam(learning_rate=0.0001)\n",
    "model.compile(loss=keras.losses.binary_crossentropy,optimizer=opt,metrics=['accuracy'])\n"
   ]
  },
  {
   "cell_type": "code",
   "execution_count": 5,
   "metadata": {},
   "outputs": [
    {
     "name": "stdout",
     "output_type": "stream",
     "text": [
      "Epoch 1/10\n",
      "7/7 [==============================] - 9s 1s/step - loss: 0.0650 - accuracy: 0.9846 - val_loss: 0.0908 - val_accuracy: 0.9483\n",
      "Epoch 2/10\n",
      "7/7 [==============================] - 11s 2s/step - loss: 0.0851 - accuracy: 0.9590 - val_loss: 0.2453 - val_accuracy: 0.8621\n",
      "Epoch 3/10\n",
      "7/7 [==============================] - 10s 1s/step - loss: 0.2257 - accuracy: 0.9282 - val_loss: 0.0726 - val_accuracy: 0.9828\n",
      "Epoch 4/10\n",
      "7/7 [==============================] - 11s 1s/step - loss: 0.1129 - accuracy: 0.9641 - val_loss: 0.1109 - val_accuracy: 0.9828\n",
      "Epoch 5/10\n",
      "7/7 [==============================] - 16s 2s/step - loss: 0.1147 - accuracy: 0.9692 - val_loss: 0.0660 - val_accuracy: 1.0000\n",
      "Epoch 6/10\n",
      "7/7 [==============================] - 14s 2s/step - loss: 0.1176 - accuracy: 0.9641 - val_loss: 0.1402 - val_accuracy: 0.9310\n",
      "Epoch 7/10\n",
      "7/7 [==============================] - 10s 1s/step - loss: 0.1204 - accuracy: 0.9641 - val_loss: 0.0619 - val_accuracy: 1.0000\n",
      "Epoch 8/10\n",
      "7/7 [==============================] - 10s 1s/step - loss: 0.0658 - accuracy: 0.9846 - val_loss: 0.1558 - val_accuracy: 0.9138\n",
      "Epoch 9/10\n",
      "7/7 [==============================] - 11s 1s/step - loss: 0.0594 - accuracy: 0.9795 - val_loss: 0.0215 - val_accuracy: 1.0000\n",
      "Epoch 10/10\n",
      "7/7 [==============================] - 10s 1s/step - loss: 0.0921 - accuracy: 0.9692 - val_loss: 0.0492 - val_accuracy: 0.9828\n"
     ]
    }
   ],
   "source": [
    "from keras import callbacks \n",
    "earlystopping = callbacks.EarlyStopping(monitor =\"val_loss\",  \n",
    "                                        mode =\"min\", patience = 5,  \n",
    "                                        restore_best_weights = True)\n",
    "hist = model.fit(x = training_set, validation_data= test_set, epochs=10,shuffle=False)"
   ]
  },
  {
   "cell_type": "code",
   "execution_count": 14,
   "metadata": {},
   "outputs": [
    {
     "name": "stdout",
     "output_type": "stream",
     "text": [
      "2/2 [==============================] - 0s 166ms/step - loss: 0.0562 - accuracy: 0.9828\n",
      "Accuracy\n",
      "0.982758641242981\n"
     ]
    }
   ],
   "source": [
    "(loss,accuracy) = model.evaluate(test_set,batch_size=64)\n",
    "print(\"Accuracy\")\n",
    "print(accuracy)"
   ]
  },
  {
   "cell_type": "code",
   "execution_count": 4,
   "metadata": {},
   "outputs": [
    {
     "name": "stdout",
     "output_type": "stream",
     "text": [
      "Epoch 1/10\n",
      "7/7 [==============================] - 9s 1s/step - loss: 0.6621 - accuracy: 0.6572 - val_loss: 0.6780 - val_accuracy: 0.5000\n",
      "Epoch 2/10\n",
      "7/7 [==============================] - 7s 942ms/step - loss: 0.5645 - accuracy: 0.6772 - val_loss: 0.5975 - val_accuracy: 0.5000\n",
      "Epoch 3/10\n",
      "7/7 [==============================] - 7s 921ms/step - loss: 0.4679 - accuracy: 0.6502 - val_loss: 0.5919 - val_accuracy: 0.6379\n",
      "Epoch 4/10\n",
      "7/7 [==============================] - 7s 939ms/step - loss: 0.4366 - accuracy: 0.8461 - val_loss: 0.5906 - val_accuracy: 0.7586\n",
      "Epoch 5/10\n",
      "7/7 [==============================] - 7s 938ms/step - loss: 0.4821 - accuracy: 0.8072 - val_loss: 0.3737 - val_accuracy: 0.7931\n",
      "Epoch 6/10\n",
      "7/7 [==============================] - 7s 932ms/step - loss: 0.3565 - accuracy: 0.8370 - val_loss: 0.4159 - val_accuracy: 0.8276\n",
      "Epoch 7/10\n",
      "7/7 [==============================] - 7s 977ms/step - loss: 0.2721 - accuracy: 0.9055 - val_loss: 0.1781 - val_accuracy: 0.9138\n",
      "Epoch 8/10\n",
      "7/7 [==============================] - 8s 1s/step - loss: 0.2334 - accuracy: 0.8974 - val_loss: 0.1501 - val_accuracy: 0.9483\n",
      "Epoch 9/10\n",
      "7/7 [==============================] - 8s 1s/step - loss: 0.1244 - accuracy: 0.9628 - val_loss: 0.1151 - val_accuracy: 0.9483\n",
      "Epoch 10/10\n",
      "7/7 [==============================] - 8s 1s/step - loss: 0.0544 - accuracy: 0.9854 - val_loss: 0.1013 - val_accuracy: 0.9655\n",
      "2/2 [==============================] - 1s 178ms/step - loss: 0.1013 - accuracy: 0.9655\n",
      "Accuracy\n",
      "0.9655172228813171\n"
     ]
    }
   ],
   "source": [
    "###Copy\n",
    "from keras import callbacks \n",
    "earlystopping = callbacks.EarlyStopping(monitor =\"val_loss\",  \n",
    "                                        mode =\"min\", patience = 5,  \n",
    "                                        restore_best_weights = True)\n",
    "hist = model.fit(x = training_set, validation_data= test_set, epochs=10,shuffle=False)\n",
    "(loss,accuracy) = model.evaluate(test_set,batch_size=128)\n",
    "print(\"Accuracy\")\n",
    "print(accuracy)"
   ]
  },
  {
   "cell_type": "code",
   "execution_count": 14,
   "metadata": {},
   "outputs": [
    {
     "ename": "FileNotFoundError",
     "evalue": "[Errno 2] No such file or directory: 'Try/single_prediction/S6.jpg'",
     "output_type": "error",
     "traceback": [
      "\u001b[1;31m---------------------------------------------------------------------------\u001b[0m",
      "\u001b[1;31mFileNotFoundError\u001b[0m                         Traceback (most recent call last)",
      "\u001b[1;32m<ipython-input-14-e87c859c857a>\u001b[0m in \u001b[0;36m<module>\u001b[1;34m\u001b[0m\n\u001b[0;32m      1\u001b[0m \u001b[1;32mimport\u001b[0m \u001b[0mnumpy\u001b[0m \u001b[1;32mas\u001b[0m \u001b[0mnp\u001b[0m\u001b[1;33m\u001b[0m\u001b[1;33m\u001b[0m\u001b[0m\n\u001b[0;32m      2\u001b[0m \u001b[1;32mfrom\u001b[0m \u001b[0mkeras\u001b[0m\u001b[1;33m.\u001b[0m\u001b[0mpreprocessing\u001b[0m \u001b[1;32mimport\u001b[0m \u001b[0mimage\u001b[0m\u001b[1;33m\u001b[0m\u001b[1;33m\u001b[0m\u001b[0m\n\u001b[1;32m----> 3\u001b[1;33m \u001b[0mtest_image\u001b[0m \u001b[1;33m=\u001b[0m \u001b[0mimage\u001b[0m\u001b[1;33m.\u001b[0m\u001b[0mload_img\u001b[0m\u001b[1;33m(\u001b[0m\u001b[1;34m'Try/single_prediction/S6.jpg'\u001b[0m\u001b[1;33m,\u001b[0m \u001b[0mtarget_size\u001b[0m\u001b[1;33m=\u001b[0m\u001b[1;33m(\u001b[0m\u001b[1;36m227\u001b[0m\u001b[1;33m,\u001b[0m \u001b[1;36m227\u001b[0m\u001b[1;33m)\u001b[0m\u001b[1;33m)\u001b[0m\u001b[1;33m\u001b[0m\u001b[1;33m\u001b[0m\u001b[0m\n\u001b[0m\u001b[0;32m      4\u001b[0m \u001b[0mtest_image\u001b[0m \u001b[1;33m=\u001b[0m \u001b[0mimage\u001b[0m\u001b[1;33m.\u001b[0m\u001b[0mimg_to_array\u001b[0m\u001b[1;33m(\u001b[0m\u001b[0mtest_image\u001b[0m\u001b[1;33m)\u001b[0m\u001b[1;33m\u001b[0m\u001b[1;33m\u001b[0m\u001b[0m\n\u001b[0;32m      5\u001b[0m \u001b[1;31m#print(test_image.shape)\u001b[0m\u001b[1;33m\u001b[0m\u001b[1;33m\u001b[0m\u001b[1;33m\u001b[0m\u001b[0m\n",
      "\u001b[1;32m~\\anaconda3\\lib\\site-packages\\tensorflow\\python\\keras\\preprocessing\\image.py\u001b[0m in \u001b[0;36mload_img\u001b[1;34m(path, grayscale, color_mode, target_size, interpolation)\u001b[0m\n\u001b[0;32m    297\u001b[0m       \u001b[0mValueError\u001b[0m\u001b[1;33m:\u001b[0m \u001b[1;32mif\u001b[0m \u001b[0minterpolation\u001b[0m \u001b[0mmethod\u001b[0m \u001b[1;32mis\u001b[0m \u001b[1;32mnot\u001b[0m \u001b[0msupported\u001b[0m\u001b[1;33m.\u001b[0m\u001b[1;33m\u001b[0m\u001b[1;33m\u001b[0m\u001b[0m\n\u001b[0;32m    298\u001b[0m   \"\"\"\n\u001b[1;32m--> 299\u001b[1;33m   return image.load_img(path, grayscale=grayscale, color_mode=color_mode,\n\u001b[0m\u001b[0;32m    300\u001b[0m                         target_size=target_size, interpolation=interpolation)\n\u001b[0;32m    301\u001b[0m \u001b[1;33m\u001b[0m\u001b[0m\n",
      "\u001b[1;32m~\\anaconda3\\lib\\site-packages\\keras_preprocessing\\image\\utils.py\u001b[0m in \u001b[0;36mload_img\u001b[1;34m(path, grayscale, color_mode, target_size, interpolation)\u001b[0m\n\u001b[0;32m    111\u001b[0m         raise ImportError('Could not import PIL.Image. '\n\u001b[0;32m    112\u001b[0m                           'The use of `load_img` requires PIL.')\n\u001b[1;32m--> 113\u001b[1;33m     \u001b[1;32mwith\u001b[0m \u001b[0mopen\u001b[0m\u001b[1;33m(\u001b[0m\u001b[0mpath\u001b[0m\u001b[1;33m,\u001b[0m \u001b[1;34m'rb'\u001b[0m\u001b[1;33m)\u001b[0m \u001b[1;32mas\u001b[0m \u001b[0mf\u001b[0m\u001b[1;33m:\u001b[0m\u001b[1;33m\u001b[0m\u001b[1;33m\u001b[0m\u001b[0m\n\u001b[0m\u001b[0;32m    114\u001b[0m         \u001b[0mimg\u001b[0m \u001b[1;33m=\u001b[0m \u001b[0mpil_image\u001b[0m\u001b[1;33m.\u001b[0m\u001b[0mopen\u001b[0m\u001b[1;33m(\u001b[0m\u001b[0mio\u001b[0m\u001b[1;33m.\u001b[0m\u001b[0mBytesIO\u001b[0m\u001b[1;33m(\u001b[0m\u001b[0mf\u001b[0m\u001b[1;33m.\u001b[0m\u001b[0mread\u001b[0m\u001b[1;33m(\u001b[0m\u001b[1;33m)\u001b[0m\u001b[1;33m)\u001b[0m\u001b[1;33m)\u001b[0m\u001b[1;33m\u001b[0m\u001b[1;33m\u001b[0m\u001b[0m\n\u001b[0;32m    115\u001b[0m         \u001b[1;32mif\u001b[0m \u001b[0mcolor_mode\u001b[0m \u001b[1;33m==\u001b[0m \u001b[1;34m'grayscale'\u001b[0m\u001b[1;33m:\u001b[0m\u001b[1;33m\u001b[0m\u001b[1;33m\u001b[0m\u001b[0m\n",
      "\u001b[1;31mFileNotFoundError\u001b[0m: [Errno 2] No such file or directory: 'Try/single_prediction/S6.jpg'"
     ]
    }
   ],
   "source": [
    "import numpy as np \n",
    "from keras.preprocessing import image \n",
    "test_image = image.load_img('Try/single_prediction/S6.jpeg', target_size=(227, 227)) \n",
    "test_image = image.img_to_array(test_image) \n",
    "#print(test_image.shape) \n",
    "test_image = np.expand_dims(test_image, axis = 0) \n",
    "result = model.predict(test_image) \n",
    "training_set.class_indices \n",
    "if result[0][0] == 1: \n",
    "    print(\"Tumour\") \n",
    "else: \n",
    "    print(\"No Tumour\")"
   ]
  },
  {
   "cell_type": "code",
   "execution_count": null,
   "metadata": {},
   "outputs": [],
   "source": []
  }
 ],
 "metadata": {
  "kernelspec": {
   "display_name": "Python 3",
   "language": "python",
   "name": "python3"
  },
  "language_info": {
   "codemirror_mode": {
    "name": "ipython",
    "version": 3
   },
   "file_extension": ".py",
   "mimetype": "text/x-python",
   "name": "python",
   "nbconvert_exporter": "python",
   "pygments_lexer": "ipython3",
   "version": "3.8.5"
  }
 },
 "nbformat": 4,
 "nbformat_minor": 4
}
