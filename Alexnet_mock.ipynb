{
 "cells": [
  {
   "cell_type": "code",
   "execution_count": 39,
   "metadata": {},
   "outputs": [
    {
     "name": "stdout",
     "output_type": "stream",
     "text": [
      "Found 195 images belonging to 2 classes.\n",
      "Found 58 images belonging to 2 classes.\n"
     ]
    }
   ],
   "source": [
    "import numpy as np\n",
    "image_shape = [227,227,3]\n",
    "np.random.seed(1000)\n",
    "from keras.models import Sequential\n",
    "import keras\n",
    "from keras.layers import Dense, Activation, Dropout, Flatten, Conv2D, MaxPooling2D\n",
    "from keras.layers.normalization import BatchNormalization\n",
    "from keras.preprocessing.image import ImageDataGenerator\n",
    "\n",
    "train_datagen = ImageDataGenerator(rescale = 1./255,\n",
    "                                   shear_range = 0.2,\n",
    "                                   zoom_range = 0.2,\n",
    "                                   horizontal_flip = True)\n",
    "training_set = train_datagen.flow_from_directory('Try/training_set',\n",
    "                                                 target_size = (227, 227),\n",
    "                                                 batch_size = 32,\n",
    "                                                 class_mode = 'binary')\n",
    "\n",
    "# Preprocessing the Test set\n",
    "test_datagen = ImageDataGenerator(rescale = 1./255)\n",
    "test_set = test_datagen.flow_from_directory('Try/test_set',\n",
    "                                            target_size = (227, 227),\n",
    "                                            batch_size = 32,\n",
    "                                            class_mode = 'binary')\n",
    "model = Sequential()"
   ]
  },
  {
   "cell_type": "code",
   "execution_count": 40,
   "metadata": {},
   "outputs": [
    {
     "name": "stdout",
     "output_type": "stream",
     "text": [
      "Model: \"sequential_3\"\n",
      "_________________________________________________________________\n",
      "Layer (type)                 Output Shape              Param #   \n",
      "=================================================================\n",
      "conv2d_15 (Conv2D)           (None, 55, 55, 96)        34944     \n",
      "_________________________________________________________________\n",
      "activation_27 (Activation)   (None, 55, 55, 96)        0         \n",
      "_________________________________________________________________\n",
      "max_pooling2d_9 (MaxPooling2 (None, 27, 27, 96)        0         \n",
      "_________________________________________________________________\n",
      "conv2d_16 (Conv2D)           (None, 23, 23, 256)       614656    \n",
      "_________________________________________________________________\n",
      "activation_28 (Activation)   (None, 23, 23, 256)       0         \n",
      "_________________________________________________________________\n",
      "max_pooling2d_10 (MaxPooling (None, 11, 11, 256)       0         \n",
      "_________________________________________________________________\n",
      "conv2d_17 (Conv2D)           (None, 9, 9, 384)         885120    \n",
      "_________________________________________________________________\n",
      "activation_29 (Activation)   (None, 9, 9, 384)         0         \n",
      "_________________________________________________________________\n",
      "conv2d_18 (Conv2D)           (None, 7, 7, 384)         1327488   \n",
      "_________________________________________________________________\n",
      "activation_30 (Activation)   (None, 7, 7, 384)         0         \n",
      "_________________________________________________________________\n",
      "conv2d_19 (Conv2D)           (None, 5, 5, 256)         884992    \n",
      "_________________________________________________________________\n",
      "activation_31 (Activation)   (None, 5, 5, 256)         0         \n",
      "_________________________________________________________________\n",
      "max_pooling2d_11 (MaxPooling (None, 2, 2, 256)         0         \n",
      "_________________________________________________________________\n",
      "flatten_3 (Flatten)          (None, 1024)              0         \n",
      "_________________________________________________________________\n",
      "dense_12 (Dense)             (None, 4096)              4198400   \n",
      "_________________________________________________________________\n",
      "activation_32 (Activation)   (None, 4096)              0         \n",
      "_________________________________________________________________\n",
      "dense_13 (Dense)             (None, 4096)              16781312  \n",
      "_________________________________________________________________\n",
      "activation_33 (Activation)   (None, 4096)              0         \n",
      "_________________________________________________________________\n",
      "dense_14 (Dense)             (None, 1000)              4097000   \n",
      "_________________________________________________________________\n",
      "activation_34 (Activation)   (None, 1000)              0         \n",
      "_________________________________________________________________\n",
      "dense_15 (Dense)             (None, 1)                 1001      \n",
      "_________________________________________________________________\n",
      "activation_35 (Activation)   (None, 1)                 0         \n",
      "=================================================================\n",
      "Total params: 28,824,913\n",
      "Trainable params: 28,824,913\n",
      "Non-trainable params: 0\n",
      "_________________________________________________________________\n"
     ]
    }
   ],
   "source": [
    "model.add(Conv2D(filters=96,input_shape=image_shape,kernel_size=(11,11),strides=(4,4),padding='valid'))\n",
    "model.add(Activation('relu'))\n",
    "model.add(MaxPooling2D(pool_size=(3,3),strides=(2,2),padding='valid'))\n",
    "\n",
    "model.add(Conv2D(filters=256,kernel_size=(5,5),strides=(1,1),padding='valid'))\n",
    "model.add(Activation('relu'))\n",
    "model.add(MaxPooling2D(pool_size=(3,3),strides=(2,2),padding='valid'))\n",
    "\n",
    "model.add(Conv2D(filters=384,kernel_size=(3,3),strides=(1,1),padding='valid'))\n",
    "model.add(Activation('relu'))\n",
    "\n",
    "model.add(Conv2D(filters=384,kernel_size=(3,3),strides=(1,1),padding='valid'))\n",
    "model.add(Activation('relu'))\n",
    "\n",
    "model.add(Conv2D(filters=256,kernel_size=(3,3),strides=(1,1),padding='valid'))\n",
    "model.add(Activation('relu'))\n",
    "\n",
    "model.add(MaxPooling2D(pool_size=(3,3),strides=(2,2),padding='valid'))\n",
    "\n",
    "model.add(Flatten())\n",
    "\n",
    "model.add(Dense(4096))\n",
    "model.add(Activation('relu'))\n",
    "\n",
    "model.add(Dense(4096))\n",
    "model.add(Activation('relu'))\n",
    "\n",
    "#model.add(Dropout(0.4))\n",
    "model.add(Dense(1000))\n",
    "model.add(Activation('relu'))\n",
    "model.add(Dense(1))\n",
    "model.add(Activation('sigmoid'))\n",
    "\n",
    "model.summary()\n",
    "\n",
    "opt = keras.optimizers.Adam(learning_rate=0.0001)\n",
    "model.compile(loss=keras.losses.binary_crossentropy,optimizer=opt,metrics=['accuracy'])\n"
   ]
  },
  {
   "cell_type": "code",
   "execution_count": 21,
   "metadata": {},
   "outputs": [
    {
     "name": "stdout",
     "output_type": "stream",
     "text": [
      "Epoch 1/10\n",
      "7/7 [==============================] - 8s 987ms/step - loss: 0.6612 - accuracy: 0.6572 - val_loss: 0.6777 - val_accuracy: 0.5000\n",
      "Epoch 2/10\n",
      "7/7 [==============================] - 7s 929ms/step - loss: 0.5725 - accuracy: 0.6772 - val_loss: 0.6149 - val_accuracy: 0.5000\n",
      "Epoch 3/10\n",
      "7/7 [==============================] - 7s 934ms/step - loss: 0.4790 - accuracy: 0.6489 - val_loss: 0.5701 - val_accuracy: 0.6207\n",
      "Epoch 4/10\n",
      "7/7 [==============================] - 7s 989ms/step - loss: 0.4197 - accuracy: 0.8471 - val_loss: 0.5763 - val_accuracy: 0.7759\n",
      "Epoch 5/10\n",
      "7/7 [==============================] - 8s 1s/step - loss: 0.4545 - accuracy: 0.8313 - val_loss: 0.5388 - val_accuracy: 0.7759\n",
      "Epoch 6/10\n",
      "7/7 [==============================] - 8s 1s/step - loss: 0.4607 - accuracy: 0.8335 - val_loss: 0.3322 - val_accuracy: 0.8966\n",
      "Epoch 7/10\n",
      "7/7 [==============================] - 9s 1s/step - loss: 0.2369 - accuracy: 0.9103 - val_loss: 0.1878 - val_accuracy: 0.9138\n",
      "Epoch 8/10\n",
      "7/7 [==============================] - 9s 1s/step - loss: 0.2318 - accuracy: 0.8947 - val_loss: 0.1774 - val_accuracy: 0.8966\n",
      "Epoch 9/10\n",
      "7/7 [==============================] - 8s 1s/step - loss: 0.2137 - accuracy: 0.9079 - val_loss: 0.1534 - val_accuracy: 0.9138\n",
      "Epoch 10/10\n",
      "7/7 [==============================] - 8s 1s/step - loss: 0.0631 - accuracy: 0.9753 - val_loss: 0.0682 - val_accuracy: 0.9828\n"
     ]
    }
   ],
   "source": [
    "from keras import callbacks \n",
    "earlystopping = callbacks.EarlyStopping(monitor =\"val_loss\",  \n",
    "                                        mode =\"min\", patience = 5,  \n",
    "                                        restore_best_weights = True)\n",
    "hist = model.fit(x = training_set, validation_data= test_set, epochs=10,shuffle=False)"
   ]
  },
  {
   "cell_type": "code",
   "execution_count": 22,
   "metadata": {},
   "outputs": [
    {
     "name": "stdout",
     "output_type": "stream",
     "text": [
      "2/2 [==============================] - 0s 154ms/step - loss: 0.0682 - accuracy: 0.9828\n",
      "Accuracy\n",
      "0.982758641242981\n"
     ]
    }
   ],
   "source": [
    "(loss,accuracy) = model.evaluate(test_set,batch_size=64)\n",
    "print(\"Accuracy\")\n",
    "print(accuracy)"
   ]
  },
  {
   "cell_type": "code",
   "execution_count": 41,
   "metadata": {},
   "outputs": [
    {
     "name": "stdout",
     "output_type": "stream",
     "text": [
      "Epoch 1/10\n",
      "7/7 [==============================] - 10s 1s/step - loss: 0.6651 - accuracy: 0.5052 - val_loss: 0.6844 - val_accuracy: 0.5000\n",
      "Epoch 2/10\n",
      "7/7 [==============================] - 7s 938ms/step - loss: 0.5455 - accuracy: 0.6772 - val_loss: 0.5609 - val_accuracy: 0.5000\n",
      "Epoch 3/10\n",
      "7/7 [==============================] - 7s 931ms/step - loss: 0.4512 - accuracy: 0.6932 - val_loss: 0.4150 - val_accuracy: 0.8276\n",
      "Epoch 4/10\n",
      "7/7 [==============================] - 7s 942ms/step - loss: 0.3050 - accuracy: 0.9082 - val_loss: 0.1285 - val_accuracy: 0.9655\n",
      "Epoch 5/10\n",
      "7/7 [==============================] - 8s 1s/step - loss: 0.2159 - accuracy: 0.9072 - val_loss: 0.1951 - val_accuracy: 0.8966\n",
      "Epoch 6/10\n",
      "7/7 [==============================] - 8s 1s/step - loss: 0.1977 - accuracy: 0.8978 - val_loss: 0.2870 - val_accuracy: 0.8793\n",
      "Epoch 7/10\n",
      "7/7 [==============================] - 8s 1s/step - loss: 0.2360 - accuracy: 0.8817 - val_loss: 0.2809 - val_accuracy: 0.8793\n",
      "Epoch 8/10\n",
      "7/7 [==============================] - 8s 1s/step - loss: 0.2996 - accuracy: 0.8993 - val_loss: 0.2498 - val_accuracy: 0.8966\n",
      "Epoch 9/10\n",
      "7/7 [==============================] - 8s 1s/step - loss: 0.1490 - accuracy: 0.9411 - val_loss: 0.1004 - val_accuracy: 0.9655\n",
      "Epoch 10/10\n",
      "7/7 [==============================] - 8s 1s/step - loss: 0.1338 - accuracy: 0.9416 - val_loss: 0.1487 - val_accuracy: 0.9655\n",
      "2/2 [==============================] - 1s 200ms/step - loss: 0.1487 - accuracy: 0.9655\n",
      "Accuracy\n",
      "0.9655172228813171\n"
     ]
    }
   ],
   "source": [
    "from keras import callbacks \n",
    "earlystopping = callbacks.EarlyStopping(monitor =\"val_loss\",  \n",
    "                                        mode =\"min\", patience = 5,  \n",
    "                                        restore_best_weights = True)\n",
    "hist = model.fit(x = training_set, validation_data= test_set, epochs=10,shuffle=False)\n",
    "(loss,accuracy) = model.evaluate(test_set,batch_size=64)\n",
    "print(\"Accuracy\")\n",
    "print(accuracy)"
   ]
  },
  {
   "cell_type": "code",
   "execution_count": 46,
   "metadata": {},
   "outputs": [
    {
     "name": "stdout",
     "output_type": "stream",
     "text": [
      "No Tumour\n"
     ]
    }
   ],
   "source": [
    "import numpy as np \n",
    "from keras.preprocessing import image \n",
    "test_image = image.load_img('Try/single_prediction/S4.jpeg', target_size=(227, 227)) \n",
    "test_image = image.img_to_array(test_image) \n",
    "test_image = np.expand_dims(test_image, axis = 0) \n",
    "result = model.predict(test_image) \n",
    "training_set.class_indices \n",
    "if result[0][0] == 1: \n",
    "    print(\"Tumour\") \n",
    "else: \n",
    "    print(\"No Tumour\")"
   ]
  },
  {
   "cell_type": "code",
   "execution_count": null,
   "metadata": {},
   "outputs": [],
   "source": []
  }
 ],
 "metadata": {
  "kernelspec": {
   "display_name": "Python 3",
   "language": "python",
   "name": "python3"
  },
  "language_info": {
   "codemirror_mode": {
    "name": "ipython",
    "version": 3
   },
   "file_extension": ".py",
   "mimetype": "text/x-python",
   "name": "python",
   "nbconvert_exporter": "python",
   "pygments_lexer": "ipython3",
   "version": "3.8.5"
  }
 },
 "nbformat": 4,
 "nbformat_minor": 4
}
